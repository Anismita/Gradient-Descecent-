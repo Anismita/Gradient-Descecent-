{
 "cells": [
  {
   "cell_type": "code",
   "execution_count": 7,
   "metadata": {},
   "outputs": [],
   "source": [
    "import numpy as np\n",
    "import matplotlib.pyplot as plt\n"
   ]
  },
  {
   "cell_type": "code",
   "execution_count": 9,
   "metadata": {},
   "outputs": [],
   "source": [
    "X_data = np.array([1,2,3,5,67,89],ndmin=3).reshape((6,1))\n",
    "y_data= np.array([11,12,121,13,14,215])\n",
    "X_mean=np.mean(X_data)\n",
    "y_mean=np.mean(y_data)\n",
    "n=len(X_data)"
   ]
  },
  {
   "cell_type": "code",
   "execution_count": 11,
   "metadata": {},
   "outputs": [
    {
     "data": {
      "text/plain": [
       "<matplotlib.collections.PathCollection at 0x53c9230>"
      ]
     },
     "execution_count": 11,
     "metadata": {},
     "output_type": "execute_result"
    },
    {
     "data": {
      "image/png": "[encoded data removed]",
      "text/plain": [
       "<Figure size 432x288 with 1 Axes>"
      ]
     },
     "metadata": {
      "needs_background": "light"
     },
     "output_type": "display_data"
    }
   ],
   "source": [
    "plt.scatter(X_data,y_data)"
   ]
  },
  {
   "cell_type": "code",
   "execution_count": 10,
   "metadata": {},
   "outputs": [
    {
     "name": "stdout",
     "output_type": "stream",
     "text": [
      "(array([29.39433821]), array([1.25529324]))\n",
      "2048.708302769172\n",
      "(array([29.39433821]), array([0.92888213]))\n"
     ]
    }
   ],
   "source": [
    "class LinearRegression:\n",
    "    b0=0\n",
    "    b1=0\n",
    "    y_pred =0\n",
    "    error=0\n",
    "    epoch=1\n",
    "    alpha=0.0001\n",
    "    def fit(self,X,y):\n",
    "        upward=0\n",
    "        downward=0\n",
    "       \n",
    "        for i in range(n):\n",
    "            upward+=(X_data[i]-X_mean)*(y_data[i]-y_mean)\n",
    "            downward+=(X_data[i]-X_mean)**2\n",
    "        self.b1=upward/downward\n",
    "        self.b0=y_mean-(self.b1*X_mean)\n",
    "        return self.b0, self.b1\n",
    "        \n",
    "    def loss_function(self,xi):\n",
    "        \n",
    "        \n",
    "            self.y_pred=self.b0+(self.b1*xi)\n",
    "            self.error=(y_mean -self.y_pred)\n",
    "            sse=np.square(self.error)\n",
    "            mse=np.mean(sse)\n",
    "            return mse\n",
    "    def loss_optimizer(self,xi):\n",
    "        \n",
    "        for i in range(self.epoch):\n",
    "           \n",
    "            derivative_b1=(-2/n)*np.sum(xi*self.error)\n",
    "            derivative_b0=(-2/n)*np.sum(self.error)\n",
    "            self.b1=self.b1-self.alpha*derivative_b1\n",
    "            self.b0=self.b0-self.alpha*derivative_b0\n",
    "        return self.b0,self.b1\n",
    "model=LinearRegression()    \n",
    "print(model.fit(X_data,y_data))\n",
    "print(model.loss_function(X_data))\n",
    "print(model.loss_optimizer(X_data))"
   ]
  },
  {
   "cell_type": "code",
   "execution_count": null,
   "metadata": {},
   "outputs": [],
   "source": []
  }
 ],
 "metadata": {
  "kernelspec": {
   "display_name": "Python 3",
   "language": "python",
   "name": "python3"
  },
  "language_info": {
   "codemirror_mode": {
    "name": "ipython",
    "version": 3
   },
   "file_extension": ".py",
   "mimetype": "text/x-python",
   "name": "python",
   "nbconvert_exporter": "python",
   "pygments_lexer": "ipython3",
   "version": "3.7.6"
  }
 },
 "nbformat": 4,
 "nbformat_minor": 4
}
